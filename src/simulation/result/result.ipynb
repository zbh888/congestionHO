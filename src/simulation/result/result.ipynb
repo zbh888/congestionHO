{
 "cells": [
  {
   "cell_type": "code",
   "execution_count": null,
   "id": "cbb2005f-edbd-4408-826f-6f969e4e725a",
   "metadata": {},
   "outputs": [],
   "source": [
    "import pickle\n",
    "import matplotlib.pyplot as plt\n",
    "import numpy as np\n",
    "import os\n",
    "import sys\n",
    "import seaborn as sns\n",
    "from matplotlib import colormaps\n",
    "from result import *\n",
    "\n",
    "def load_pkl(path):\n",
    "    with open(path, 'rb') as file:\n",
    "        loaded_dict = pickle.load(file)\n",
    "    return loaded_dict\n",
    "\n",
    "def escape_underscores(setting):\n",
    "    input_string = \"-\".join(setting)\n",
    "    escaped_string = input_string.replace(\"_\", \"-\")\n",
    "    return escaped_string\n",
    "\n",
    "LEGEND_SIZE = 6\n",
    "FILTERING_S_ALG = ['S_LONGEST', 'S_EARLIEST', 'S_RANDOM']\n",
    "FILTERING_C_ALG = ['C_EARLIEST', 'C_RANDOM']\n",
    "FILTERING_UE_ALG = ['UE_LONGEST', 'UE_RANDOM']\n",
    "FILTERING_ACCESS_OPPORTUNITIES_ALG = ['4', '8', '12']\n",
    "\n",
    "\n",
    "directory_path = './'\n",
    "result = {}\n",
    "\n",
    "# Loop through the files in the directory\n",
    "for filename in os.listdir(directory_path):\n",
    "    # Check if the file ends with .pkl\n",
    "    if filename.endswith('.pkl'):\n",
    "        source_alg = filename[:-4].split('|')[0]\n",
    "        candidate_alg = filename[:-4].split('|')[1]\n",
    "        ue_alg = filename[:-4].split('|')[2]\n",
    "        access_opportunities = filename[:-4].split('|')[3]\n",
    "        if (source_alg in FILTERING_S_ALG\n",
    "        and candidate_alg in FILTERING_C_ALG\n",
    "        and ue_alg in FILTERING_UE_ALG\n",
    "        and access_opportunities in FILTERING_ACCESS_OPPORTUNITIES_ALG):\n",
    "            result[(source_alg, candidate_alg, ue_alg, access_opportunities)] = load_pkl(filename)\n",
    "            result[(source_alg, candidate_alg, ue_alg, access_opportunities)]['time_sat_matrix'] = np.array(result[(source_alg, candidate_alg, ue_alg, access_opportunities)]['time_sat_matrix'])\n"
   ]
  },
  {
   "cell_type": "code",
   "execution_count": null,
   "id": "baa3ab4f-1f0f-48ee-b26d-a9e846f70b6d",
   "metadata": {},
   "outputs": [],
   "source": []
  }
 ],
 "metadata": {
  "kernelspec": {
   "display_name": "Python 3 (ipykernel)",
   "language": "python",
   "name": "python3"
  },
  "language_info": {
   "codemirror_mode": {
    "name": "ipython",
    "version": 3
   },
   "file_extension": ".py",
   "mimetype": "text/x-python",
   "name": "python",
   "nbconvert_exporter": "python",
   "pygments_lexer": "ipython3",
   "version": "3.9.6"
  }
 },
 "nbformat": 4,
 "nbformat_minor": 5
}
