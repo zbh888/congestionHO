{
 "cells": [
  {
   "cell_type": "code",
   "execution_count": 1,
   "id": "dc329ae0-ca88-40f2-9c1b-f214eebef2d4",
   "metadata": {},
   "outputs": [
    {
     "name": "stdout",
     "output_type": "stream",
     "text": [
      "Loading scenario in the simulation takes 0.0866861343383789\n",
      "============= Experiment Log =============\n",
      "[13] UE 6 sends Satellite 1 the message {\"task\": \"MEASUREMENT_REPORT\", \"candidates\": [4, 7, 2], \"utility\": [3310, 3234, 3062], \"from\": 6, \"to\": 1}\n",
      "[13] Satellite 1 sends Satellite 4 the message {\"task\": \"HANDOVER_REQUEST\", \"ueid\": 6, \"candidates\": [4, 7, 2], \"utility\": [3310, 3234, 3062], \"priority_load\": [0, [0, 0, 0, 0, 0, 0, 0, 0, 0, 0, 0, 0, 0, 0, 0, 0, 0, 0, 0, 0, 0, 0, 0, 0, 0, 0, 0, 0, 0, 0, 0, 0, 0, 0, 0, 0, 0, 0, 0, 0, 0, 0, 0, 0, 0, 0, 0, 0, 0, 0, 0, 0, 0, 0, 0, 0, 0, 0, 0, 0, 0, 0, 0, 0, 0, 0, 0, 0, 0, 0, 0, 0, 0, 0, 0, 0, 0, 0, 0, 0, 0, 0, 0, 0, 0, 0, 0, 0, 0, 0, 0, 0, 0, 0, 0, 0, 0, 0, 0, 0, 0, 0, 0, 0, 0, 0, 0, 0, 0, 0, 0, 0, 0, 0, 0, 0, 0, 0, 0, 0, 0, 0, 0, 0, 0, 0, 0, 0, 0, 0, 0, 0, 0, 0, 0, 0, 0, 0, 0, 0, 0, 0, 0, 0, 0, 0, 0, 0, 0, 0, 0, 0, 0, 0, 0, 0, 0, 0, 0, 0, 0, 0, 0, 0, 0, 0, 0, 0, 0, 0, 0, 0, 0, 0, 0, 0, 0, 0, 0, 0, 0, 0, 0, 0, 0, 0, 0, 0, 0, 0, 0, 0, 0, 0, 0, 0, 0, 0, 0, 0]], \"candidates_priority_load\": [[], [], []], \"from\": 1, \"to\": 4}\n",
      "[13] Satellite 1 sends Satellite 7 the message {\"task\": \"HANDOVER_REQUEST\", \"ueid\": 6, \"candidates\": [4, 7, 2], \"utility\": [3310, 3234, 3062], \"priority_load\": [0, [0, 0, 0, 0, 0, 0, 0, 0, 0, 0, 0, 0, 0, 0, 0, 0, 0, 0, 0, 0, 0, 0, 0, 0, 0, 0, 0, 0, 0, 0, 0, 0, 0, 0, 0, 0, 0, 0, 0, 0, 0, 0, 0, 0, 0, 0, 0, 0, 0, 0, 0, 0, 0, 0, 0, 0, 0, 0, 0, 0, 0, 0, 0, 0, 0, 0, 0, 0, 0, 0, 0, 0, 0, 0, 0, 0, 0, 0, 0, 0, 0, 0, 0, 0, 0, 0, 0, 0, 0, 0, 0, 0, 0, 0, 0, 0, 0, 0, 0, 0, 0, 0, 0, 0, 0, 0, 0, 0, 0, 0, 0, 0, 0, 0, 0, 0, 0, 0, 0, 0, 0, 0, 0, 0, 0, 0, 0, 0, 0, 0, 0, 0, 0, 0, 0, 0, 0, 0, 0, 0, 0, 0, 0, 0, 0, 0, 0, 0, 0, 0, 0, 0, 0, 0, 0, 0, 0, 0, 0, 0, 0, 0, 0, 0, 0, 0, 0, 0, 0, 0, 0, 0, 0, 0, 0, 0, 0, 0, 0, 0, 0, 0, 0, 0, 0, 0, 0, 0, 0, 0, 0, 0, 0, 0, 0, 0, 0, 0, 0, 0]], \"candidates_priority_load\": [[], [], []], \"from\": 1, \"to\": 7}\n",
      "[13] Satellite 1 sends Satellite 2 the message {\"task\": \"HANDOVER_REQUEST\", \"ueid\": 6, \"candidates\": [4, 7, 2], \"utility\": [3310, 3234, 3062], \"priority_load\": [0, [0, 0, 0, 0, 0, 0, 0, 0, 0, 0, 0, 0, 0, 0, 0, 0, 0, 0, 0, 0, 0, 0, 0, 0, 0, 0, 0, 0, 0, 0, 0, 0, 0, 0, 0, 0, 0, 0, 0, 0, 0, 0, 0, 0, 0, 0, 0, 0, 0, 0, 0, 0, 0, 0, 0, 0, 0, 0, 0, 0, 0, 0, 0, 0, 0, 0, 0, 0, 0, 0, 0, 0, 0, 0, 0, 0, 0, 0, 0, 0, 0, 0, 0, 0, 0, 0, 0, 0, 0, 0, 0, 0, 0, 0, 0, 0, 0, 0, 0, 0, 0, 0, 0, 0, 0, 0, 0, 0, 0, 0, 0, 0, 0, 0, 0, 0, 0, 0, 0, 0, 0, 0, 0, 0, 0, 0, 0, 0, 0, 0, 0, 0, 0, 0, 0, 0, 0, 0, 0, 0, 0, 0, 0, 0, 0, 0, 0, 0, 0, 0, 0, 0, 0, 0, 0, 0, 0, 0, 0, 0, 0, 0, 0, 0, 0, 0, 0, 0, 0, 0, 0, 0, 0, 0, 0, 0, 0, 0, 0, 0, 0, 0, 0, 0, 0, 0, 0, 0, 0, 0, 0, 0, 0, 0, 0, 0, 0, 0, 0, 0]], \"candidates_priority_load\": [[], [], []], \"from\": 1, \"to\": 2}\n",
      "[13] Satellite 4 sends Satellite 1 the message {\"task\": \"HANDOVER_RESPONSE\", \"ueid\": 6, \"condition\": {\"access_delay\": 12, \"ueid\": 6, \"source\": 1, \"satid\": 4, \"ue_utility\": 3310}, \"priority_load\": [0, [0, 0, 0, 0, 0, 0, 0, 0, 0, 0, 0, 0, 0, 0, 0, 0, 0, 0, 0, 0, 0, 0, 0, 0, 0, 0, 0, 0, 0, 0, 0, 0, 0, 0, 0, 0, 0, 0, 0, 0, 0, 0, 0, 0, 0, 0, 0, 0, 0, 0, 0, 0, 0, 0, 0, 0, 0, 0, 0, 0, 0, 0, 0, 0, 0, 0, 0, 0, 0, 0, 0, 0, 0, 0, 0, 0, 0, 0, 0, 0, 0, 0, 0, 0, 0, 0, 0, 0, 0, 0, 0, 0, 0, 0, 0, 0, 0, 0, 0, 0, 0, 0, 0, 0, 0, 0, 0, 0, 0, 0, 0, 0, 0, 0, 0, 0, 0, 0, 0, 0, 0, 0, 0, 0, 0, 0, 0, 0, 0, 0, 0, 0, 0, 0, 0, 0, 0, 0, 0, 0, 0, 0, 0, 0, 0, 0, 0, 0, 0, 0, 0, 0, 0, 0, 0, 0, 0, 0, 0, 0, 0, 0, 0, 0, 0, 0, 0, 0, 0, 0, 0, 0, 0, 0, 0, 0, 0, 0, 0, 0, 0, 0, 0, 0, 0, 0, 0, 0, 0, 0, 0, 0, 0, 0, 0, 0, 0, 0, 0, 0]], \"from\": 4, \"to\": 1}\n",
      "[13] Satellite 7 sends Satellite 1 the message {\"task\": \"HANDOVER_RESPONSE\", \"ueid\": 6, \"condition\": {\"access_delay\": 108, \"ueid\": 6, \"source\": 1, \"satid\": 7, \"ue_utility\": 3234}, \"priority_load\": [0, [0, 0, 0, 0, 0, 0, 0, 0, 0, 0, 0, 0, 0, 0, 0, 0, 0, 0, 0, 0, 0, 0, 0, 0, 0, 0, 0, 0, 0, 0, 0, 0, 0, 0, 0, 0, 0, 0, 0, 0, 0, 0, 0, 0, 0, 0, 0, 0, 0, 0, 0, 0, 0, 0, 0, 0, 0, 0, 0, 0, 0, 0, 0, 0, 0, 0, 0, 0, 0, 0, 0, 0, 0, 0, 0, 0, 0, 0, 0, 0, 0, 0, 0, 0, 0, 0, 0, 0, 0, 0, 0, 0, 0, 0, 0, 0, 0, 0, 0, 0, 0, 0, 0, 0, 0, 0, 0, 0, 0, 0, 0, 0, 0, 0, 0, 0, 0, 0, 0, 0, 0, 0, 0, 0, 0, 0, 0, 0, 0, 0, 0, 0, 0, 0, 0, 0, 0, 0, 0, 0, 0, 0, 0, 0, 0, 0, 0, 0, 0, 0, 0, 0, 0, 0, 0, 0, 0, 0, 0, 0, 0, 0, 0, 0, 0, 0, 0, 0, 0, 0, 0, 0, 0, 0, 0, 0, 0, 0, 0, 0, 0, 0, 0, 0, 0, 0, 0, 0, 0, 0, 0, 0, 0, 0, 0, 0, 0, 0, 0, 0]], \"from\": 7, \"to\": 1}\n",
      "[13] Satellite 2 sends Satellite 1 the message {\"task\": \"HANDOVER_RESPONSE\", \"ueid\": 6, \"condition\": {\"access_delay\": 36, \"ueid\": 6, \"source\": 1, \"satid\": 2, \"ue_utility\": 3062}, \"priority_load\": [0, [0, 0, 0, 0, 0, 0, 0, 0, 0, 0, 0, 0, 0, 0, 0, 0, 0, 0, 0, 0, 0, 0, 0, 0, 0, 0, 0, 0, 0, 0, 0, 0, 0, 0, 0, 0, 0, 0, 0, 0, 0, 0, 0, 0, 0, 0, 0, 0, 0, 0, 0, 0, 0, 0, 0, 0, 0, 0, 0, 0, 0, 0, 0, 0, 0, 0, 0, 0, 0, 0, 0, 0, 0, 0, 0, 0, 0, 0, 0, 0, 0, 0, 0, 0, 0, 0, 0, 0, 0, 0, 0, 0, 0, 0, 0, 0, 0, 0, 0, 0, 0, 0, 0, 0, 0, 0, 0, 0, 0, 0, 0, 0, 0, 0, 0, 0, 0, 0, 0, 0, 0, 0, 0, 0, 0, 0, 0, 0, 0, 0, 0, 0, 0, 0, 0, 0, 0, 0, 0, 0, 0, 0, 0, 0, 0, 0, 0, 0, 0, 0, 0, 0, 0, 0, 0, 0, 0, 0, 0, 0, 0, 0, 0, 0, 0, 0, 0, 0, 0, 0, 0, 0, 0, 0, 0, 0, 0, 0, 0, 0, 0, 0, 0, 0, 0, 0, 0, 0, 0, 0, 0, 0, 0, 0, 0, 0, 0, 0, 0, 0]], \"from\": 2, \"to\": 1}\n",
      "[13] Satellite 1 sends UE 6 the message {\"task\": \"RRC_RECONFIGURATION\", \"conditions\": [{\"access_delay\": 12, \"ueid\": 6, \"source\": 1, \"satid\": 4, \"ue_utility\": 3310}, {\"access_delay\": 108, \"ueid\": 6, \"source\": 1, \"satid\": 7, \"ue_utility\": 3234}, {\"access_delay\": 36, \"ueid\": 6, \"source\": 1, \"satid\": 2, \"ue_utility\": 3062}], \"suggested_target\": 4, \"corresponding_delay\": 12, \"from\": 1, \"to\": 6}\n",
      "[13] UE 6 sends Satellite 1 the message {\"task\": \"RRC_RECONFIGURATION_COMPLETE\", \"from\": 6, \"to\": 1}\n",
      "[25] UE 6 sends Satellite 4 the message {\"task\": \"RANDOM_ACCESS\", \"from\": 6, \"to\": 4}\n",
      "[25] Satellite 4 sends UE 6 the message {\"task\": \"RANDOM_ACCESS_RESPONSE\", \"from\": 4, \"to\": 6}\n",
      "[25] Satellite 4 sends Satellite 1 the message {\"task\": \"HANDOVER_SUCCESS\", \"ueid\": 6, \"priority_load\": [0, [0, 0, 0, 0, 0, 0, 0, 0, 0, 0, 0, 0, 0, 0, 0, 0, 0, 0, 0, 0, 0, 0, 0, 0, 0, 0, 0, 0, 0, 0, 0, 0, 0, 0, 0, 0, 0, 0, 0, 0, 0, 0, 0, 0, 0, 0, 0, 0, 0, 0, 0, 0, 0, 0, 0, 0, 0, 0, 0, 0, 0, 0, 0, 0, 0, 0, 0, 0, 0, 0, 0, 0, 0, 0, 0, 0, 0, 0, 0, 0, 0, 0, 0, 0, 0, 0, 0, 0, 0, 0, 0, 0, 0, 0, 0, 0, 0, 0, 0, 0, 0, 0, 0, 0, 0, 0, 0, 0, 0, 0, 0, 0, 0, 0, 0, 0, 0, 0, 0, 0, 0, 0, 0, 0, 0, 0, 0, 0, 0, 0, 0, 0, 0, 0, 0, 0, 0, 0, 0, 0, 0, 0, 0, 0, 0, 0, 0, 0, 0, 0, 0, 0, 0, 0, 0, 0, 0, 0, 0, 0, 0, 0, 0, 0, 0, 0, 0, 0, 0, 0, 0, 0, 0, 0, 0, 0, 0, 0, 0, 0, 0, 0, 0, 0, 0, 0, 0, 0, 0, 0, 0, 0, 0, 0, 0, 0, 0, 0, 0, 0]], \"from\": 4, \"to\": 1}\n",
      "[25] Satellite 1 sends Satellite 4 the message {\"task\": \"SN_STATUS_TRANSFER\", \"ueid\": 6, \"priority_load\": [0, [0, 0, 0, 0, 0, 0, 0, 0, 0, 0, 0, 0, 0, 0, 0, 0, 0, 0, 0, 0, 0, 0, 0, 0, 0, 0, 0, 0, 0, 0, 0, 0, 0, 0, 0, 0, 0, 0, 0, 0, 0, 0, 0, 0, 0, 0, 0, 0, 0, 0, 0, 0, 0, 0, 0, 0, 0, 0, 0, 0, 0, 0, 0, 0, 0, 0, 0, 0, 0, 0, 0, 0, 0, 0, 0, 0, 0, 0, 0, 0, 0, 0, 0, 0, 0, 0, 0, 0, 0, 0, 0, 0, 0, 0, 0, 0, 0, 0, 0, 0, 0, 0, 0, 0, 0, 0, 0, 0, 0, 0, 0, 0, 0, 0, 0, 0, 0, 0, 0, 0, 0, 0, 0, 0, 0, 0, 0, 0, 0, 0, 0, 0, 0, 0, 0, 0, 0, 0, 0, 0, 0, 0, 0, 0, 0, 0, 0, 0, 0, 0, 0, 0, 0, 0, 0, 0, 0, 0, 0, 0, 0, 0, 0, 0, 0, 0, 0, 0, 0, 0, 0, 0, 0, 0, 0, 0, 0, 0, 0, 0, 0, 0, 0, 0, 0, 0, 0, 0, 0, 0, 0, 0, 0, 0, 0, 0, 0, 0, 0, 0]], \"from\": 1, \"to\": 4}\n",
      "[25] Satellite 1 sends Satellite 7 the message {\"task\": \"HANDOVER_CANCEL\", \"ueid\": 6, \"priority_load\": [0, [0, 0, 0, 0, 0, 0, 0, 0, 0, 0, 0, 0, 0, 0, 0, 0, 0, 0, 0, 0, 0, 0, 0, 0, 0, 0, 0, 0, 0, 0, 0, 0, 0, 0, 0, 0, 0, 0, 0, 0, 0, 0, 0, 0, 0, 0, 0, 0, 0, 0, 0, 0, 0, 0, 0, 0, 0, 0, 0, 0, 0, 0, 0, 0, 0, 0, 0, 0, 0, 0, 0, 0, 0, 0, 0, 0, 0, 0, 0, 0, 0, 0, 0, 0, 0, 0, 0, 0, 0, 0, 0, 0, 0, 0, 0, 0, 0, 0, 0, 0, 0, 0, 0, 0, 0, 0, 0, 0, 0, 0, 0, 0, 0, 0, 0, 0, 0, 0, 0, 0, 0, 0, 0, 0, 0, 0, 0, 0, 0, 0, 0, 0, 0, 0, 0, 0, 0, 0, 0, 0, 0, 0, 0, 0, 0, 0, 0, 0, 0, 0, 0, 0, 0, 0, 0, 0, 0, 0, 0, 0, 0, 0, 0, 0, 0, 0, 0, 0, 0, 0, 0, 0, 0, 0, 0, 0, 0, 0, 0, 0, 0, 0, 0, 0, 0, 0, 0, 0, 0, 0, 0, 0, 0, 0, 0, 0, 0, 0, 0, 0]], \"from\": 1, \"to\": 7}\n",
      "[25] Satellite 1 sends Satellite 2 the message {\"task\": \"HANDOVER_CANCEL\", \"ueid\": 6, \"priority_load\": [0, [0, 0, 0, 0, 0, 0, 0, 0, 0, 0, 0, 0, 0, 0, 0, 0, 0, 0, 0, 0, 0, 0, 0, 0, 0, 0, 0, 0, 0, 0, 0, 0, 0, 0, 0, 0, 0, 0, 0, 0, 0, 0, 0, 0, 0, 0, 0, 0, 0, 0, 0, 0, 0, 0, 0, 0, 0, 0, 0, 0, 0, 0, 0, 0, 0, 0, 0, 0, 0, 0, 0, 0, 0, 0, 0, 0, 0, 0, 0, 0, 0, 0, 0, 0, 0, 0, 0, 0, 0, 0, 0, 0, 0, 0, 0, 0, 0, 0, 0, 0, 0, 0, 0, 0, 0, 0, 0, 0, 0, 0, 0, 0, 0, 0, 0, 0, 0, 0, 0, 0, 0, 0, 0, 0, 0, 0, 0, 0, 0, 0, 0, 0, 0, 0, 0, 0, 0, 0, 0, 0, 0, 0, 0, 0, 0, 0, 0, 0, 0, 0, 0, 0, 0, 0, 0, 0, 0, 0, 0, 0, 0, 0, 0, 0, 0, 0, 0, 0, 0, 0, 0, 0, 0, 0, 0, 0, 0, 0, 0, 0, 0, 0, 0, 0, 0, 0, 0, 0, 0, 0, 0, 0, 0, 0, 0, 0, 0, 0, 0, 0]], \"from\": 1, \"to\": 2}\n",
      "[746] UE 8 sends Satellite 3 the message {\"task\": \"MEASUREMENT_REPORT\", \"candidates\": [5, 7, 2], \"utility\": [4534, 3386, 3165], \"from\": 8, \"to\": 3}\n",
      "[746] Satellite 3 sends Satellite 5 the message {\"task\": \"HANDOVER_REQUEST\", \"ueid\": 8, \"candidates\": [5, 7, 2], \"utility\": [4534, 3386, 3165], \"priority_load\": [0, [0, 0, 0, 0, 0, 0, 0, 0, 0, 0, 0, 0, 0, 0, 0, 0, 0, 0, 0, 0, 0, 0, 0, 0, 0, 0, 0, 0, 0, 0, 0, 0, 0, 0, 0, 0, 0, 0, 0, 0, 0, 0, 0, 0, 0, 0, 0, 0, 0, 0, 0, 0, 0, 0, 0, 0, 0, 0, 0, 0, 0, 0, 0, 0, 0, 0, 0, 0, 0, 0, 0, 0, 0, 0, 0, 0, 0, 0, 0, 0, 0, 0, 0, 0, 0, 0, 0, 0, 0, 0, 0, 0, 0, 0, 0, 0, 0, 0, 0, 0, 0, 0, 0, 0, 0, 0, 0, 0, 0, 0, 0, 0, 0, 0, 0, 0, 0, 0, 0, 0, 0, 0, 0, 0, 0, 0, 0, 0, 0, 0, 0, 0, 0, 0, 0, 0, 0, 0, 0, 0, 0, 0, 0, 0, 0, 0, 0, 0, 0, 0, 0, 0, 0, 0, 0, 0, 0, 0, 0, 0, 0, 0, 0, 0, 0, 0, 0, 0, 0, 0, 0, 0, 0, 0, 0, 0, 0, 0, 0, 0, 0, 0, 0, 0, 0, 0, 0, 0, 0, 0, 0, 0, 0, 0, 0, 0, 0, 0, 0, 0]], \"candidates_priority_load\": [[], [], []], \"from\": 3, \"to\": 5}\n",
      "[746] Satellite 3 sends Satellite 7 the message {\"task\": \"HANDOVER_REQUEST\", \"ueid\": 8, \"candidates\": [5, 7, 2], \"utility\": [4534, 3386, 3165], \"priority_load\": [0, [0, 0, 0, 0, 0, 0, 0, 0, 0, 0, 0, 0, 0, 0, 0, 0, 0, 0, 0, 0, 0, 0, 0, 0, 0, 0, 0, 0, 0, 0, 0, 0, 0, 0, 0, 0, 0, 0, 0, 0, 0, 0, 0, 0, 0, 0, 0, 0, 0, 0, 0, 0, 0, 0, 0, 0, 0, 0, 0, 0, 0, 0, 0, 0, 0, 0, 0, 0, 0, 0, 0, 0, 0, 0, 0, 0, 0, 0, 0, 0, 0, 0, 0, 0, 0, 0, 0, 0, 0, 0, 0, 0, 0, 0, 0, 0, 0, 0, 0, 0, 0, 0, 0, 0, 0, 0, 0, 0, 0, 0, 0, 0, 0, 0, 0, 0, 0, 0, 0, 0, 0, 0, 0, 0, 0, 0, 0, 0, 0, 0, 0, 0, 0, 0, 0, 0, 0, 0, 0, 0, 0, 0, 0, 0, 0, 0, 0, 0, 0, 0, 0, 0, 0, 0, 0, 0, 0, 0, 0, 0, 0, 0, 0, 0, 0, 0, 0, 0, 0, 0, 0, 0, 0, 0, 0, 0, 0, 0, 0, 0, 0, 0, 0, 0, 0, 0, 0, 0, 0, 0, 0, 0, 0, 0, 0, 0, 0, 0, 0, 0]], \"candidates_priority_load\": [[], [], []], \"from\": 3, \"to\": 7}\n",
      "[746] Satellite 3 sends Satellite 2 the message {\"task\": \"HANDOVER_REQUEST\", \"ueid\": 8, \"candidates\": [5, 7, 2], \"utility\": [4534, 3386, 3165], \"priority_load\": [0, [0, 0, 0, 0, 0, 0, 0, 0, 0, 0, 0, 0, 0, 0, 0, 0, 0, 0, 0, 0, 0, 0, 0, 0, 0, 0, 0, 0, 0, 0, 0, 0, 0, 0, 0, 0, 0, 0, 0, 0, 0, 0, 0, 0, 0, 0, 0, 0, 0, 0, 0, 0, 0, 0, 0, 0, 0, 0, 0, 0, 0, 0, 0, 0, 0, 0, 0, 0, 0, 0, 0, 0, 0, 0, 0, 0, 0, 0, 0, 0, 0, 0, 0, 0, 0, 0, 0, 0, 0, 0, 0, 0, 0, 0, 0, 0, 0, 0, 0, 0, 0, 0, 0, 0, 0, 0, 0, 0, 0, 0, 0, 0, 0, 0, 0, 0, 0, 0, 0, 0, 0, 0, 0, 0, 0, 0, 0, 0, 0, 0, 0, 0, 0, 0, 0, 0, 0, 0, 0, 0, 0, 0, 0, 0, 0, 0, 0, 0, 0, 0, 0, 0, 0, 0, 0, 0, 0, 0, 0, 0, 0, 0, 0, 0, 0, 0, 0, 0, 0, 0, 0, 0, 0, 0, 0, 0, 0, 0, 0, 0, 0, 0, 0, 0, 0, 0, 0, 0, 0, 0, 0, 0, 0, 0, 0, 0, 0, 0, 0, 0]], \"candidates_priority_load\": [[], [], []], \"from\": 3, \"to\": 2}\n",
      "[746] Satellite 5 sends Satellite 3 the message {\"task\": \"HANDOVER_RESPONSE\", \"ueid\": 8, \"condition\": {\"access_delay\": 98, \"ueid\": 8, \"source\": 3, \"satid\": 5, \"ue_utility\": 4534}, \"priority_load\": [0, [0, 0, 0, 0, 0, 0, 0, 0, 0, 0, 0, 0, 0, 0, 0, 0, 0, 0, 0, 0, 0, 0, 0, 0, 0, 0, 0, 0, 0, 0, 0, 0, 0, 0, 0, 0, 0, 0, 0, 0, 0, 0, 0, 0, 0, 0, 0, 0, 0, 0, 0, 0, 0, 0, 0, 0, 0, 0, 0, 0, 0, 0, 0, 0, 0, 0, 0, 0, 0, 0, 0, 0, 0, 0, 0, 0, 0, 0, 0, 0, 0, 0, 0, 0, 0, 0, 0, 0, 0, 0, 0, 0, 0, 0, 0, 0, 0, 0, 0, 0, 0, 0, 0, 0, 0, 0, 0, 0, 0, 0, 0, 0, 0, 0, 0, 0, 0, 0, 0, 0, 0, 0, 0, 0, 0, 0, 0, 0, 0, 0, 0, 0, 0, 0, 0, 0, 0, 0, 0, 0, 0, 0, 0, 0, 0, 0, 0, 0, 0, 0, 0, 0, 0, 0, 0, 0, 0, 0, 0, 0, 0, 0, 0, 0, 0, 0, 0, 0, 0, 0, 0, 0, 0, 0, 0, 0, 0, 0, 0, 0, 0, 0, 0, 0, 0, 0, 0, 0, 0, 0, 0, 0, 0, 0, 0, 0, 0, 0, 0, 0]], \"from\": 5, \"to\": 3}\n"
     ]
    },
    {
     "name": "stderr",
     "output_type": "stream",
     "text": [
      "Current simulation time 0\n",
      "Current simulation time 100\n",
      "Current simulation time 200\n",
      "Current simulation time 300\n",
      "Current simulation time 400\n",
      "Current simulation time 500\n",
      "Current simulation time 600\n",
      "Current simulation time 700\n"
     ]
    },
    {
     "ename": "IndexError",
     "evalue": "list index out of range",
     "output_type": "error",
     "traceback": [
      "\u001b[0;31m---------------------------------------------------------------------------\u001b[0m",
      "\u001b[0;31mIndexError\u001b[0m                                Traceback (most recent call last)",
      "File \u001b[0;32m~/HO2/src/simulation/Satellite.py:143\u001b[0m, in \u001b[0;36mSatellite.handle_messages\u001b[0;34m(self)\u001b[0m\n\u001b[1;32m    142\u001b[0m \u001b[38;5;28;01mfor\u001b[39;00m candidate_id, candidate_priority_load \u001b[38;5;129;01min\u001b[39;00m \u001b[38;5;28mzip\u001b[39m(candidates, candidates_priority_loads):\n\u001b[0;32m--> 143\u001b[0m     \u001b[38;5;28;43mself\u001b[39;49m\u001b[38;5;241;43m.\u001b[39;49m\u001b[43mupdate_other_priority_load\u001b[49m\u001b[43m(\u001b[49m\u001b[43mcandidate_id\u001b[49m\u001b[43m,\u001b[49m\u001b[43m \u001b[49m\u001b[43mcandidate_priority_load\u001b[49m\u001b[43m)\u001b[49m\n\u001b[1;32m    144\u001b[0m condition \u001b[38;5;241m=\u001b[39m \u001b[38;5;28mself\u001b[39m\u001b[38;5;241m.\u001b[39mprepare_condition(ueid, source_id, candidates, utilities)\n",
      "File \u001b[0;32m~/HO2/src/simulation/Satellite.py:85\u001b[0m, in \u001b[0;36mSatellite.update_other_priority_load\u001b[0;34m(self, satid, priority_load)\u001b[0m\n\u001b[1;32m     84\u001b[0m \u001b[38;5;28;01melse\u001b[39;00m:\n\u001b[0;32m---> 85\u001b[0m     old_priority_load \u001b[38;5;241m=\u001b[39m \u001b[38;5;28;43mself\u001b[39;49m\u001b[38;5;241;43m.\u001b[39;49m\u001b[43mprepare_other_load_prediction\u001b[49m\u001b[43m(\u001b[49m\u001b[43msatid\u001b[49m\u001b[43m)\u001b[49m\n\u001b[1;32m     86\u001b[0m     old_priority \u001b[38;5;241m=\u001b[39m old_priority_load[\u001b[38;5;241m0\u001b[39m]\n",
      "File \u001b[0;32m~/HO2/src/simulation/Satellite.py:77\u001b[0m, in \u001b[0;36mSatellite.prepare_other_load_prediction\u001b[0;34m(self, satid)\u001b[0m\n\u001b[1;32m     76\u001b[0m candidate_time \u001b[38;5;241m=\u001b[39m \u001b[38;5;28mself\u001b[39m\u001b[38;5;241m.\u001b[39mload_aware[satid][\u001b[38;5;241m0\u001b[39m]\n\u001b[0;32m---> 77\u001b[0m candidate_priority \u001b[38;5;241m=\u001b[39m \u001b[38;5;28;43mself\u001b[39;49m\u001b[38;5;241;43m.\u001b[39;49m\u001b[43mload_aware\u001b[49m\u001b[43m[\u001b[49m\u001b[43msatid\u001b[49m\u001b[43m]\u001b[49m\u001b[43m[\u001b[49m\u001b[38;5;241;43m1\u001b[39;49m\u001b[43m]\u001b[49m\u001b[43m[\u001b[49m\u001b[38;5;241;43m0\u001b[39;49m\u001b[43m]\u001b[49m\n\u001b[1;32m     78\u001b[0m candidate_load \u001b[38;5;241m=\u001b[39m \u001b[38;5;28mself\u001b[39m\u001b[38;5;241m.\u001b[39mload_aware[satid][\u001b[38;5;241m1\u001b[39m][\u001b[38;5;28mself\u001b[39m\u001b[38;5;241m.\u001b[39menv\u001b[38;5;241m.\u001b[39mnow \u001b[38;5;241m-\u001b[39m candidate_time:]\n",
      "\u001b[0;31mIndexError\u001b[0m: list index out of range",
      "\nThe above exception was the direct cause of the following exception:\n",
      "\u001b[0;31mIndexError\u001b[0m                                Traceback (most recent call last)",
      "Cell \u001b[0;32mIn[1], line 110\u001b[0m\n\u001b[1;32m    107\u001b[0m env\u001b[38;5;241m.\u001b[39mprocess(monitor_timestamp(env))\n\u001b[1;32m    109\u001b[0m \u001b[38;5;28mprint\u001b[39m(\u001b[38;5;124m'\u001b[39m\u001b[38;5;124m============= Experiment Log =============\u001b[39m\u001b[38;5;124m'\u001b[39m)\n\u001b[0;32m--> 110\u001b[0m \u001b[43menv\u001b[49m\u001b[38;5;241;43m.\u001b[39;49m\u001b[43mrun\u001b[49m\u001b[43m(\u001b[49m\u001b[43muntil\u001b[49m\u001b[38;5;241;43m=\u001b[39;49m\u001b[43mDURATION\u001b[49m\u001b[43m)\u001b[49m\n\u001b[1;32m    111\u001b[0m \u001b[38;5;28mprint\u001b[39m(\u001b[38;5;124m'\u001b[39m\u001b[38;5;124m============= Experiment Ends =============\u001b[39m\u001b[38;5;124m'\u001b[39m)\n\u001b[1;32m    112\u001b[0m counter \u001b[38;5;241m=\u001b[39m allCounters(Satellites, UEs)\n",
      "File \u001b[0;32m~/Library/Python/3.9/lib/python/site-packages/simpy/core.py:254\u001b[0m, in \u001b[0;36mEnvironment.run\u001b[0;34m(self, until)\u001b[0m\n\u001b[1;32m    252\u001b[0m \u001b[38;5;28;01mtry\u001b[39;00m:\n\u001b[1;32m    253\u001b[0m     \u001b[38;5;28;01mwhile\u001b[39;00m \u001b[38;5;28;01mTrue\u001b[39;00m:\n\u001b[0;32m--> 254\u001b[0m         \u001b[38;5;28;43mself\u001b[39;49m\u001b[38;5;241;43m.\u001b[39;49m\u001b[43mstep\u001b[49m\u001b[43m(\u001b[49m\u001b[43m)\u001b[49m\n\u001b[1;32m    255\u001b[0m \u001b[38;5;28;01mexcept\u001b[39;00m StopSimulation \u001b[38;5;28;01mas\u001b[39;00m exc:\n\u001b[1;32m    256\u001b[0m     \u001b[38;5;28;01mreturn\u001b[39;00m exc\u001b[38;5;241m.\u001b[39margs[\u001b[38;5;241m0\u001b[39m]  \u001b[38;5;66;03m# == until.value\u001b[39;00m\n",
      "File \u001b[0;32m~/Library/Python/3.9/lib/python/site-packages/simpy/core.py:206\u001b[0m, in \u001b[0;36mEnvironment.step\u001b[0;34m(self)\u001b[0m\n\u001b[1;32m    204\u001b[0m exc \u001b[38;5;241m=\u001b[39m \u001b[38;5;28mtype\u001b[39m(event\u001b[38;5;241m.\u001b[39m_value)(\u001b[38;5;241m*\u001b[39mevent\u001b[38;5;241m.\u001b[39m_value\u001b[38;5;241m.\u001b[39margs)\n\u001b[1;32m    205\u001b[0m exc\u001b[38;5;241m.\u001b[39m__cause__ \u001b[38;5;241m=\u001b[39m event\u001b[38;5;241m.\u001b[39m_value\n\u001b[0;32m--> 206\u001b[0m \u001b[38;5;28;01mraise\u001b[39;00m exc\n",
      "\u001b[0;31mIndexError\u001b[0m: list index out of range"
     ]
    }
   ],
   "source": [
    "import sys\n",
    "from Load import *\n",
    "from UE import *\n",
    "from Satellite import *\n",
    "from Oracle import *\n",
    "import time\n",
    "import os\n",
    "\n",
    "def initial_assignment(UEss, Satss, oracle):\n",
    "    C = UEss[0].coverage_info\n",
    "    if oracle is None:\n",
    "        # random assign\n",
    "        for ueid in UEss:\n",
    "            ue = UEss[ueid]\n",
    "            possible_satellites = np.where(C[ueid, :, 0] == 1)[0]\n",
    "            assert (len(possible_satellites) > 0)\n",
    "            satid = random.choice(possible_satellites)\n",
    "            ue.serving_satellite = Satss[satid]\n",
    "            ue.serving_satellite_history.append(satid)\n",
    "    else:\n",
    "        for ueid in UEss:\n",
    "            ue = UEss[ueid]\n",
    "            satid = oracle.query_init_satellite(ueid)\n",
    "            assert (C[ueid, satid, 0] == 1)\n",
    "            ue.serving_satellite = Satss[satid]\n",
    "            ue.serving_satellite_history.append(satid)\n",
    "\n",
    "\n",
    "def monitor_timestamp(env):\n",
    "    while True:\n",
    "        if env.now % 100 == 0:\n",
    "            print(f\"Current simulation time {env.now}\", file=sys.stderr)\n",
    "        yield env.timeout(1)\n",
    "\n",
    "\n",
    "if __name__ == \"__main__\":\n",
    "    SOURCE_ALG = sys.argv[1]\n",
    "    CANDIDATE_ALG = sys.argv[2]\n",
    "    # configuration\n",
    "    # When oracle_simulation is False, the oracle_assignment could be True/False\n",
    "    # When oracle_simulation is True, the oracle_assignment must be True\n",
    "    if oracle_simulation:\n",
    "        assert (oracle_assignment)\n",
    "    random.seed(10)\n",
    "\n",
    "    # Loading scenarios\n",
    "    beginning = time.time()\n",
    "    UEs_template, satellites_template, C = load_scenario()\n",
    "    DURATION = C.shape[2]\n",
    "    env = simpy.Environment()\n",
    "\n",
    "    assignment_oracle = None\n",
    "    simulation_oracle = None\n",
    "    if oracle_assignment:\n",
    "        assignment_oracle = Oracle()\n",
    "    if oracle_simulation:\n",
    "        simulation_oracle = assignment_oracle\n",
    "\n",
    "    UEs = {}\n",
    "    for ue_template in UEs_template:\n",
    "        ID = ue_template.ID\n",
    "        if ID not in UEs:\n",
    "            UEs[ID] = UE(\n",
    "                identity=ID,\n",
    "                position_x=ue_template.x,\n",
    "                position_y=ue_template.y,\n",
    "                coverage_info=C,\n",
    "                oracle=simulation_oracle,\n",
    "                env=env\n",
    "            )\n",
    "        else:\n",
    "            print(\"ERROR\")\n",
    "\n",
    "    Satellites = {}\n",
    "    for sat_template in satellites_template:\n",
    "        ID = sat_template.ID\n",
    "        if ID not in Satellites:\n",
    "            Satellites[ID] = Satellite(\n",
    "                identity=ID,\n",
    "                position_x=sat_template.x,\n",
    "                position_y=sat_template.y,\n",
    "                height=sat_template.h,\n",
    "                coverage_r=sat_template.r,\n",
    "                velocity=sat_template.v,\n",
    "                sind=sat_template.sind,\n",
    "                cosd=sat_template.cosd,\n",
    "                coverage_info=C,\n",
    "                max_access_opportunity=max_access_opportunity,\n",
    "                max_access_slots=max_access_slots,\n",
    "                env=env,\n",
    "                oracle=simulation_oracle,\n",
    "            )\n",
    "        else:\n",
    "            print(\"ERROR\")\n",
    "\n",
    "    for ueid in UEs:\n",
    "        UEs[ueid].satellites = Satellites\n",
    "\n",
    "    for satid in Satellites:\n",
    "        Satellites[satid].UEs = UEs\n",
    "        Satellites[satid].satellites = Satellites\n",
    "\n",
    "    print(f\"Loading scenario in the simulation takes {time.time() - beginning}\")\n",
    "    # ========= UE, SAT objectives are ready =========\n",
    "    initial_assignment(UEs, Satellites, assignment_oracle)\n",
    "\n",
    "    env.process(monitor_timestamp(env))\n",
    "\n",
    "    print('============= Experiment Log =============')\n",
    "    env.run(until=DURATION)\n",
    "    print('============= Experiment Ends =============')\n",
    "    counter = allCounters(Satellites, UEs)\n",
    "    counter.give_result()\n"
   ]
  },
  {
   "cell_type": "code",
   "execution_count": 2,
   "id": "ac79fd49-ebea-41cf-b6a0-426509847ba5",
   "metadata": {},
   "outputs": [
    {
     "name": "stdout",
     "output_type": "stream",
     "text": [
      "Total signalling: 1939\n",
      "Total handover: 277\n",
      "removed 398901 elements\n"
     ]
    }
   ],
   "source": [
    "counter.give_result(100)"
   ]
  },
  {
   "cell_type": "code",
   "execution_count": 2,
   "id": "9d66087c-1733-49a4-b2c6-adfdbd6416d8",
   "metadata": {},
   "outputs": [
    {
     "name": "stdout",
     "output_type": "stream",
     "text": [
      "2 1\n",
      "3 2\n",
      "4 3\n"
     ]
    }
   ],
   "source": [
    "a = [2,3,4]\n",
    "b = [1,2,3]\n",
    "for x, b in zip(a, b):\n",
    "    print(x,b)"
   ]
  },
  {
   "cell_type": "code",
   "execution_count": null,
   "id": "0a6ae271-686b-4950-87de-29b086d0be79",
   "metadata": {},
   "outputs": [],
   "source": []
  }
 ],
 "metadata": {
  "kernelspec": {
   "display_name": "Python 3 (ipykernel)",
   "language": "python",
   "name": "python3"
  },
  "language_info": {
   "codemirror_mode": {
    "name": "ipython",
    "version": 3
   },
   "file_extension": ".py",
   "mimetype": "text/x-python",
   "name": "python",
   "nbconvert_exporter": "python",
   "pygments_lexer": "ipython3",
   "version": "3.9.6"
  }
 },
 "nbformat": 4,
 "nbformat_minor": 5
}
